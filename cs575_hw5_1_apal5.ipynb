{
  "cells": [
    {
      "cell_type": "markdown",
      "metadata": {
        "id": "view-in-github",
        "colab_type": "text"
      },
      "source": [
        "<a href=\"https://colab.research.google.com/github/apal5/cs575_hw5.1/blob/main/cs575_hw5_1_apal5.ipynb\" target=\"_parent\"><img src=\"https://colab.research.google.com/assets/colab-badge.svg\" alt=\"Open In Colab\"/></a>"
      ]
    },
    {
      "cell_type": "markdown",
      "metadata": {
        "id": "Wo15i7dPVvVF"
      },
      "source": [
        "## Requires\n",
        "1.   [matplotlib](https://matplotlib.org/): a visualization library\n",
        "2.   [numpy](https://numpy.org/): a numerical / scientific library\n",
        "\n",
        "### Easy mode\n",
        "Grab the awesome but large anaconda distribution which includes everything you will need [here](https://www.anaconda.com/products/distribution)."
      ]
    },
    {
      "cell_type": "code",
      "execution_count": null,
      "metadata": {
        "id": "k80OGxcJZ9z2"
      },
      "outputs": [],
      "source": [
        "import time\n",
        "import math\n",
        "import matplotlib.pyplot as plt\n",
        "from numpy import random\n",
        "import numpy as np"
      ]
    },
    {
      "cell_type": "markdown",
      "metadata": {
        "id": "m_IO3kTgYIbN"
      },
      "source": [
        "## Caution\n",
        "You are not allowed to import any other libraries"
      ]
    },
    {
      "cell_type": "markdown",
      "metadata": {
        "id": "bf1GMB_ZYR9I"
      },
      "source": []
    },
    {
      "cell_type": "code",
      "execution_count": null,
      "metadata": {
        "id": "RB2bdXbqPTLs"
      },
      "outputs": [],
      "source": [
        "maxSize = 10000\n",
        "num_instances = 100"
      ]
    },
    {
      "cell_type": "markdown",
      "metadata": {
        "id": "6lFCubMfYgqh"
      },
      "source": [
        "# Inputs, Outputs, I/O"
      ]
    },
    {
      "cell_type": "code",
      "execution_count": null,
      "metadata": {
        "id": "ZYPeltl32G9i"
      },
      "outputs": [],
      "source": [
        "## create files\n",
        "\n",
        "def makeInputs(size, low=0, high=1000000, num_instances=100):\n",
        "  \"\"\"\n",
        "  Generate <num_instances> instances of the sorting problem, \n",
        "  each with <size> number of integers,\n",
        "  and saves them.\n",
        "  Instance <i> with <size> integers is stored as \n",
        "  filename 'instance_<size>_<i>'\n",
        "  \"\"\"\n",
        "  for i in range(num_instances):\n",
        "    instance = makeInstance(low=low, high=high, size=size)\n",
        "    with open(f'instance_{size}_{i}.txt', 'w') as f:\n",
        "      f.writelines(\" \".join(str(i) for i in instance))\n",
        "\n",
        "def makeInstance(size, low=0, high=1000000):\n",
        "  \"\"\"\n",
        "  Generate a list of <size> integers selected uniformly at random \n",
        "  from the integers between <low> and <high>\n",
        "  \"\"\"\n",
        "  lst = np.random.randint(low=low, high=high, size=size).tolist()\n",
        "  return lst\n",
        "\n",
        "\n",
        "\"\"\"\n",
        "TODO: Write functions to read the input files\n",
        "\"\"\"\n",
        "def readInput(filename):\n",
        "  content = \"\"\n",
        "  with open(filename) as f:\n",
        "    content += f.readline()\n",
        "  lst = list(map(int,content.split(\" \")))\n",
        "  return lst"
      ]
    },
    {
      "cell_type": "markdown",
      "metadata": {
        "id": "DYA9-WVf50KF"
      },
      "source": [
        "# Creating data"
      ]
    },
    {
      "cell_type": "markdown",
      "metadata": {
        "id": "OtPsWd6Gdt31"
      },
      "source": [
        "## TODO\n",
        "Create 100 inputs of each size 100, 200, ..., 10,000"
      ]
    },
    {
      "cell_type": "code",
      "execution_count": null,
      "metadata": {
        "id": "0Sw2wnzplGEQ"
      },
      "outputs": [],
      "source": [
        "for s in range (100, maxSize+1,100):\n",
        "  makeInputs(size=s, num_instances=num_instances)"
      ]
    },
    {
      "cell_type": "markdown",
      "metadata": {
        "id": "9pQeXPE3b4MS"
      },
      "source": [
        "# Implement Sorting Algorithms"
      ]
    },
    {
      "cell_type": "markdown",
      "metadata": {
        "id": "AFdYhwbwdXMP"
      },
      "source": [
        "## Implement Merge Sort"
      ]
    },
    {
      "cell_type": "code",
      "execution_count": null,
      "metadata": {
        "id": "6bVBpWEpaYue"
      },
      "outputs": [],
      "source": [
        "#Sort function\n",
        "def mergeSort(lst):\n",
        "  '''TODO: Implement the Merge Sort algorithm'''\n",
        "  if len(lst)>1:\n",
        "    a=lst[:len(lst)//2]\n",
        "    b=lst[len(lst)//2:]\n",
        "    a=mergeSort(a)\n",
        "    b=mergeSort(b)\n",
        "    return merge(a,b)\n",
        "  else: \n",
        "    return lst    \n",
        "#Merge Function    \n",
        "def merge(list1, list2):\n",
        "  if not list2 or len(list2)== 0:\n",
        "    return list1\n",
        "  elif not list1 or len(list1)== 0:\n",
        "    return list2\n",
        "  else:\n",
        "    i=0\n",
        "    j=0\n",
        "    k=0\n",
        "    merged = list1+list2\n",
        "    while i<len(list1) and j<len(list2):\n",
        "      if list1[i]<=list2[j]:\n",
        "        merged[k]=list1[i]\n",
        "        i+=1\n",
        "        k+=1\n",
        "      else:\n",
        "        merged[k]=list2[j]\n",
        "        j+=1\n",
        "        k+=1\n",
        "    if(i<len(list1)):\n",
        "      while (i<len(list1)):\n",
        "        merged[k]=list1[i]\n",
        "        k+=1\n",
        "        i+=1\n",
        "    if(j<len(list2)):\n",
        "      while(j<len(list2)):\n",
        "        merged[k]=list2[j]\n",
        "        k+=1\n",
        "        j+=1               \n",
        "  return merged    "
      ]
    },
    {
      "cell_type": "markdown",
      "metadata": {
        "id": "SFPnBdFqdZp8"
      },
      "source": [
        "## Implement Quick Sort"
      ]
    },
    {
      "cell_type": "code",
      "execution_count": null,
      "metadata": {
        "id": "rgQ738v5e_rr"
      },
      "outputs": [],
      "source": [
        "def quickSort(lst):\n",
        "  '''TODO: Implement the Quick Sort algorithm'''\n",
        "  return quickSortFunction(lst,0,len(lst)-1)\n",
        "\n",
        "def quickSortFunction(lst, low, high):\n",
        "  if(low<high):\n",
        "    pivot=partition(lst, low, high)\n",
        "    quickSortFunction(lst, low, pivot-1)\n",
        "    quickSortFunction(lst, pivot+1, high)\n",
        "  return lst\n",
        "  \n",
        "def partition(lst, low, high):\n",
        "  piv=lst[high]\n",
        "  i=low-1\n",
        "\n",
        "  for j in range (low, high):\n",
        "    if lst[j]<=piv:\n",
        "      i+=1\n",
        "      lst[i],lst[j]=lst[j], lst[i] #Swap\n",
        "  lst[i+1], lst[high]=lst[high], lst[i+1]\n",
        "  return i+1\n",
        "      "
      ]
    },
    {
      "cell_type": "markdown",
      "metadata": {
        "id": "tdwuZl1QKjlt"
      },
      "source": []
    },
    {
      "cell_type": "markdown",
      "metadata": {
        "id": "pgH5dxbZdevP"
      },
      "source": [
        "# Experiments"
      ]
    },
    {
      "cell_type": "markdown",
      "metadata": {
        "id": "JieVr8QTdh6z"
      },
      "source": [
        "## Run experiments as a batch"
      ]
    },
    {
      "cell_type": "code",
      "execution_count": null,
      "metadata": {
        "id": "7dU6_aTiYtT6"
      },
      "outputs": [],
      "source": [
        "def sortRun(data, sort):\n",
        "  \"\"\"\n",
        "  TODO: Measure the running time of the function <sort> on inputs <data>\n",
        "  Inputs:\n",
        "    data: a list consisting of lists, each of which is an unsorted list of numbers\n",
        "    sort: a function that takes a list of unsorted numbers as input \n",
        "          e.g. your implementations of merge sort and quick sort\n",
        "  Output:\n",
        "    a list of running times, each element is the running time of the function sort \n",
        "    on the corresponding list in data\n",
        "  \"\"\"\n",
        "  times = []\n",
        "  \n",
        "  for lst in data: \n",
        "    start_time = time.time()\n",
        "    sort(lst)\n",
        "    runtime = (time.time() - start_time)\n",
        "    times.append(runtime)\n",
        "  return times"
      ]
    },
    {
      "cell_type": "code",
      "execution_count": null,
      "metadata": {
        "id": "qQQoPQtdOSuH"
      },
      "outputs": [],
      "source": [
        "#Reading all data at once\n",
        "def readAllData():\n",
        "  data = []\n",
        "  for size in range(100,maxSize+1,100):\n",
        "    for i in range(num_instances):\n",
        "      filename = f'instance_{size}_{i}.txt'\n",
        "      data.append(readInput(filename))\n",
        "  return data\n",
        "\n",
        "#Reading data in batches  \n",
        "def readAllDataSized(size):\n",
        "  data=[]\n",
        "  for i in range(num_instances):\n",
        "    filename = f'instance_{size}_{i}.txt'\n",
        "    data.append(readInput(filename))\n",
        "  return data\n",
        "\n"
      ]
    },
    {
      "cell_type": "markdown",
      "metadata": {
        "id": "8a-Hha_Odriz"
      },
      "source": [
        "## TODO\n",
        "Run Experiments and Gather Data"
      ]
    },
    {
      "cell_type": "code",
      "execution_count": null,
      "metadata": {
        "id": "EUKy-4EUpnY0"
      },
      "outputs": [],
      "source": [
        "#Gathering data to plot the graph \n",
        "def gather_data(sort_func):\n",
        "  sizes=[]                                       #Sizes 100, 200 , 300, .. 10000\n",
        "  means=[]                                       #Mean runtime of a particular input sized file \n",
        "  stds=[]       \n",
        "  counts=[]\n",
        "  confidence_interval=[]\n",
        "  confidence_interval_lower = []\n",
        "  confidence_interval_upper = []\n",
        "  points_extra=[]\n",
        "  for s in range (100, maxSize+1, 100):\n",
        "    sizes.append(s)\n",
        "    data = readAllDataSized(s)\n",
        "    points = sortRun(data, sort_func)\n",
        "    points_extra.append(points)\n",
        "    means.append(np.mean(points))\n",
        "    stds.append(np.std(points))\n",
        "    counts.append(len(data))\n",
        "    confidence_interval.append(1.96*stds[-1]/np.sqrt(counts[-1]))\n",
        "    confidence_interval_lower.append(means[-1]-confidence_interval[-1])\n",
        "    confidence_interval_upper.append(means[-1]+confidence_interval[-1])\n",
        "  return points_extra,sizes,means,stds,counts, confidence_interval, confidence_interval_lower, confidence_interval_upper"
      ]
    },
    {
      "cell_type": "code",
      "execution_count": null,
      "metadata": {
        "id": "cHmH9c2nwZNE"
      },
      "outputs": [],
      "source": [
        "merge_points_extra,merge_sizes,merge_means,merge_stds,merge_counts,merge_confidence_interval,merge_confidence_interval_lower,merge_confidence_interval_upper = gather_data(mergeSort)"
      ]
    },
    {
      "cell_type": "code",
      "execution_count": null,
      "metadata": {
        "id": "ZcRQsa0fw0vB"
      },
      "outputs": [],
      "source": [
        "quick_points_extra,quick_sizes,quick_means,quick_stds,quick_counts,quick_confidence_interval,quick_confidence_interval_lower,quick_confidence_interval_upper=gather_data(quickSort)"
      ]
    },
    {
      "cell_type": "markdown",
      "metadata": {
        "id": "xfUxKNcFckDE"
      },
      "source": [
        "# Example data and graph"
      ]
    },
    {
      "cell_type": "markdown",
      "metadata": {
        "id": "ID8fNz_OehVK"
      },
      "source": [
        "## TODO\n",
        "\n",
        "Plot the running times of the two algorithms together with their 95% confidence intervals. You may find [this](https://en.wikipedia.org/wiki/Confidence_interval) and [this](https://matplotlib.org/stable/api/_as_gen/matplotlib.pyplot.fill_between.html) helpful. \n",
        "\n",
        "Note both curves, one for each algorithm and their confidence intervals must appear on the same plot. \n",
        "\n",
        "You may use red for Merge Sort and blue for Quick Sort. For each of these, a shaded region showing the 95% confidence interval for each of these must be filled with the same color at 50% of lower transparency."
      ]
    },
    {
      "cell_type": "markdown",
      "metadata": {
        "id": "Mu51mdssfI86"
      },
      "source": [
        "## implement your functions, then plot the results"
      ]
    },
    {
      "cell_type": "code",
      "execution_count": null,
      "metadata": {
        "id": "1C_lM79O3j_1",
        "colab": {
          "base_uri": "https://localhost:8080/",
          "height": 825
        },
        "outputId": "7228ae8f-c3c4-4bd1-8769-a7af77251a61"
      },
      "outputs": [
        {
          "output_type": "execute_result",
          "data": {
            "text/plain": [
              "<matplotlib.legend.Legend at 0x7fa211214fd0>"
            ]
          },
          "metadata": {},
          "execution_count": 13
        },
        {
          "output_type": "display_data",
          "data": {
            "text/plain": [
              "<Figure size 1080x1080 with 1 Axes>"
            ],
            "image/png": "[encoded data removed]"
          },
          "metadata": {
            "needs_background": "light"
          }
        }
      ],
      "source": [
        "fig, ax = plt.subplots(figsize=(15,15))\n",
        "merge_x = merge_sizes\n",
        "ax.plot(merge_x, merge_means, color='r', label = 'Merge Sort')\n",
        "ax.fill_between(\n",
        "    merge_x,merge_confidence_interval_lower, merge_confidence_interval_upper, color='r', alpha=.5)\n",
        "quick_x = quick_sizes\n",
        "ax.plot(quick_x, quick_means, color='b', label = 'Quick Sort')\n",
        "ax.fill_between(\n",
        "    quick_x, quick_confidence_interval_lower, quick_confidence_interval_upper, color='b', alpha=.5)\n",
        "ax.set_title('Average time taken by sorting data sets of different sizes(N)')\n",
        "ax.set_ylabel('Time(seconds)')\n",
        "ax.set_xlabel('Size (N)')\n",
        "ax.legend(loc=\"upper left\")"
      ]
    }
  ],
  "metadata": {
    "colab": {
      "provenance": [],
      "include_colab_link": true
    },
    "kernelspec": {
      "display_name": "Python 3",
      "name": "python3"
    },
    "language_info": {
      "name": "python"
    }
  },
  "nbformat": 4,
  "nbformat_minor": 0
}