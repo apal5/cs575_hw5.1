{
  "cells": [
    {
      "cell_type": "markdown",
      "metadata": {
        "id": "view-in-github",
        "colab_type": "text"
      },
      "source": [
        "<a href=\"https://colab.research.google.com/github/apal5/cs575_hw5.1/blob/main/CS575_HW5_apal5.ipynb\" target=\"_parent\"><img src=\"https://colab.research.google.com/assets/colab-badge.svg\" alt=\"Open In Colab\"/></a>"
      ]
    },
    {
      "cell_type": "markdown",
      "metadata": {
        "id": "Wo15i7dPVvVF"
      },
      "source": [
        "## Requires\n",
        "1.   [matplotlib](https://matplotlib.org/): a visualization library\n",
        "2.   [numpy](https://numpy.org/): a numerical / scientific library\n",
        "\n",
        "### Easy mode\n",
        "Grab the awesome but large anaconda distribution which includes everything you will need [here](https://www.anaconda.com/products/distribution)."
      ]
    },
    {
      "cell_type": "code",
      "execution_count": 19,
      "metadata": {
        "id": "k80OGxcJZ9z2"
      },
      "outputs": [],
      "source": [
        "import time\n",
        "import math\n",
        "import matplotlib.pyplot as plt\n",
        "from numpy import random\n",
        "import numpy as np"
      ]
    },
    {
      "cell_type": "markdown",
      "metadata": {
        "id": "m_IO3kTgYIbN"
      },
      "source": [
        "## Caution\n",
        "You are not allowed to import any other libraries"
      ]
    },
    {
      "cell_type": "markdown",
      "metadata": {
        "id": "bf1GMB_ZYR9I"
      },
      "source": []
    },
    {
      "cell_type": "code",
      "execution_count": 20,
      "metadata": {
        "id": "RB2bdXbqPTLs"
      },
      "outputs": [],
      "source": [
        "size = 10000\n",
        "num_instances = 1000"
      ]
    },
    {
      "cell_type": "markdown",
      "metadata": {
        "id": "6lFCubMfYgqh"
      },
      "source": [
        "# Inputs, Outputs, I/O"
      ]
    },
    {
      "cell_type": "code",
      "execution_count": 22,
      "metadata": {
        "id": "ZYPeltl32G9i"
      },
      "outputs": [],
      "source": [
        "## create files\n",
        "\n",
        "def makeInputs(size, low=0, high=1000000, num_instances=100):\n",
        "  \"\"\"\n",
        "  Generate <num_instances> instances of the sorting problem, \n",
        "  each with <size> number of integers,\n",
        "  and saves them.\n",
        "  Instance <i> with <size> integers is stored as \n",
        "  filename 'instance_<size>_<i>'\n",
        "  \"\"\"\n",
        "  for i in range(num_instances):\n",
        "    instance = makeInstance(low=low, high=high, size=size)\n",
        "    with open(f'instance_{size}_{i}.txt', 'w') as f:\n",
        "      f.writelines(\" \".join(str(i) for i in instance))\n",
        "\n",
        "def makeInstance(size, low=0, high=1000000):\n",
        "  \"\"\"\n",
        "  Generate a list of <size> integers selected uniformly at random \n",
        "  from the integers between <low> and <high>\n",
        "  \"\"\"\n",
        "  lst = np.random.randint(low=low, high=high, size=size).tolist()\n",
        "  return lst\n",
        "\n",
        "\n",
        "\"\"\"\n",
        "TODO: Write functions to read the input files\n",
        "\"\"\"\n",
        "def readInput(filename):\n",
        "  content = \"\"\n",
        "  with open(filename) as f:\n",
        "    content += f.readline()\n",
        "  lst = list(map(int,content.split(\" \")))\n",
        "  return lst"
      ]
    },
    {
      "cell_type": "markdown",
      "metadata": {
        "id": "DYA9-WVf50KF"
      },
      "source": [
        "# Creating data"
      ]
    },
    {
      "cell_type": "code",
      "execution_count": 26,
      "metadata": {
        "id": "yhwGxB6i2ZaL"
      },
      "outputs": [],
      "source": [
        "makeInputs(size,num_instances=num_instances)"
      ]
    },
    {
      "cell_type": "markdown",
      "metadata": {
        "id": "OtPsWd6Gdt31"
      },
      "source": [
        "## TODO\n",
        "Create 100 inputs of each size 100, 200, ..., 10,000"
      ]
    },
    {
      "cell_type": "code",
      "source": [
        "from google.colab import drive\n",
        "drive.mount('/content/drive')"
      ],
      "metadata": {
        "colab": {
          "base_uri": "https://localhost:8080/"
        },
        "id": "yfE_agDbM6xi",
        "outputId": "b3658e1c-fbc4-47d6-b204-0711af1d2926"
      },
      "execution_count": 27,
      "outputs": [
        {
          "output_type": "stream",
          "name": "stdout",
          "text": [
            "Drive already mounted at /content/drive; to attempt to forcibly remount, call drive.mount(\"/content/drive\", force_remount=True).\n"
          ]
        }
      ]
    },
    {
      "cell_type": "markdown",
      "metadata": {
        "id": "9pQeXPE3b4MS"
      },
      "source": [
        "# Implement Sorting Algorithms"
      ]
    },
    {
      "cell_type": "markdown",
      "metadata": {
        "id": "AFdYhwbwdXMP"
      },
      "source": [
        "## Implement Merge Sort"
      ]
    },
    {
      "cell_type": "code",
      "execution_count": 37,
      "metadata": {
        "id": "6bVBpWEpaYue"
      },
      "outputs": [],
      "source": [
        "def mergeSort(lst):\n",
        "  '''TODO: Implement the Merge Sort algorithm'''\n",
        "  if len(lst)>1:\n",
        "    a=lst[:len(lst)//2]\n",
        "    b=lst[len(lst)//2:]\n",
        "    a=mergeSort(a)\n",
        "    b=mergeSort(b)\n",
        "    return merge(a,b)\n",
        "  else: \n",
        "    return lst    "
      ]
    },
    {
      "cell_type": "code",
      "execution_count": 38,
      "metadata": {
        "id": "h_81K4f_f17K"
      },
      "outputs": [],
      "source": [
        "def merge(list1, list2):\n",
        "  if not list2 or len(list2)== 0:\n",
        "    return list1\n",
        "  elif not list1 or len(list1)== 0:\n",
        "    return list2\n",
        "  else:\n",
        "    i=0\n",
        "    j=0\n",
        "    k=0\n",
        "    merged = list1+list2\n",
        "    while i<len(list1) and j<len(list2):\n",
        "      if list1[i]<=list2[j]:\n",
        "        merged[k]=list1[i]\n",
        "        i+=1\n",
        "        k+=1\n",
        "      else:\n",
        "        merged[k]=list2[j]\n",
        "        j+=1\n",
        "        k+=1\n",
        "    if(i<len(list1)):\n",
        "      while (i<len(list1)):\n",
        "        merged[k]=list1[i]\n",
        "        k+=1\n",
        "        i+=1\n",
        "    if(j<len(list2)):\n",
        "      while(j<len(list2)):\n",
        "        merged[k]=list2[j]\n",
        "        k+=1\n",
        "        j+=1               \n",
        "  return merged"
      ]
    },
    {
      "cell_type": "code",
      "execution_count": 39,
      "metadata": {
        "colab": {
          "base_uri": "https://localhost:8080/"
        },
        "id": "H9cJzqS-CYFC",
        "outputId": "19434d88-9999-45e8-afdc-ee4c62f68fd6"
      },
      "outputs": [
        {
          "output_type": "execute_result",
          "data": {
            "text/plain": [
              "True"
            ]
          },
          "metadata": {},
          "execution_count": 39
        }
      ],
      "source": [
        "mergeSort(x)==sorted(x)"
      ]
    },
    {
      "cell_type": "markdown",
      "metadata": {
        "id": "SFPnBdFqdZp8"
      },
      "source": [
        "## Implement Quick Sort"
      ]
    },
    {
      "cell_type": "code",
      "execution_count": 32,
      "metadata": {
        "id": "rgQ738v5e_rr"
      },
      "outputs": [],
      "source": [
        "def quickSort(lst):\n",
        "  '''TODO: Implement the Quick Sort algorithm'''\n",
        "  return quickSortFunction(lst,0,len(lst)-1)\n",
        "\n",
        "def quickSortFunction(lst, low, high):\n",
        "  if(low<high):\n",
        "    pivot=partition(lst, low, high)\n",
        "    quickSortFunction(lst, low, pivot-1)\n",
        "    quickSortFunction(lst, pivot+1, high)\n",
        "  return lst\n",
        "  \n",
        "def partition(lst, low, high):\n",
        "  piv=lst[high]\n",
        "  i=low-1\n",
        "\n",
        "  for j in range (low, high):\n",
        "    if lst[j]<=piv:\n",
        "      i+=1\n",
        "      lst[i],lst[j]=lst[j], lst[i] #Swap\n",
        "  lst[i+1], lst[high]=lst[high], lst[i+1]\n",
        "  return i+1\n",
        "      "
      ]
    },
    {
      "cell_type": "code",
      "execution_count": 33,
      "metadata": {
        "id": "qQQoPQtdOSuH"
      },
      "outputs": [],
      "source": [
        "def readAllData():\n",
        "  data = []\n",
        "  for i in range(num_instances):\n",
        "    filename = f'instance_{size}_{i}.txt'\n",
        "    data.append(readInput(filename))\n",
        "  return data"
      ]
    },
    {
      "cell_type": "markdown",
      "source": [],
      "metadata": {
        "id": "tdwuZl1QKjlt"
      }
    },
    {
      "cell_type": "code",
      "execution_count": 34,
      "metadata": {
        "id": "v-QQevrQQCQZ"
      },
      "outputs": [],
      "source": [
        "data = readAllData()\n",
        "for i,x in enumerate(data):\n",
        "  if quickSort(x)!=sorted(x):\n",
        "    print(\"Sorting Failed for instance: \",i)"
      ]
    },
    {
      "cell_type": "markdown",
      "metadata": {
        "id": "pgH5dxbZdevP"
      },
      "source": [
        "# Experiments"
      ]
    },
    {
      "cell_type": "markdown",
      "metadata": {
        "id": "JieVr8QTdh6z"
      },
      "source": [
        "## Run experiments as a batch"
      ]
    },
    {
      "cell_type": "code",
      "execution_count": 40,
      "metadata": {
        "id": "7dU6_aTiYtT6"
      },
      "outputs": [],
      "source": [
        "def sortRun(data, sort):\n",
        "  \"\"\"\n",
        "  TODO: Measure the running time of the function <sort> on inputs <data>\n",
        "  Inputs:\n",
        "    data: a list consisting of lists, each of which is an unsorted list of numbers\n",
        "    sort: a function that takes a list of unsorted numbers as input \n",
        "          e.g. your implementations of merge sort and quick sort\n",
        "  Output:\n",
        "    a list of running times, each element is the running time of the function sort \n",
        "    on the corresponding list in data\n",
        "  \"\"\"\n",
        "  times = []\n",
        "  \n",
        "  for lst in data: \n",
        "    start_time = time.time()\n",
        "    sort(lst)\n",
        "    runtime = (time.time() - start_time)\n",
        "    times.append(runtime)\n",
        "  return times"
      ]
    },
    {
      "cell_type": "code",
      "execution_count": 41,
      "metadata": {
        "id": "BBdYBVBMbJRQ"
      },
      "outputs": [],
      "source": [
        "\"\"\"\n",
        "Example\n",
        "\"\"\"\n",
        "data = readAllData()\n",
        "points_m = sortRun(data, mergeSort)\n",
        "points_q = sortRun(data, quickSort)"
      ]
    },
    {
      "cell_type": "markdown",
      "metadata": {
        "id": "8a-Hha_Odriz"
      },
      "source": [
        "## TODO\n",
        "Run Experiments and Gather Data"
      ]
    },
    {
      "cell_type": "markdown",
      "metadata": {
        "id": "xfUxKNcFckDE"
      },
      "source": [
        "# Example data and graph"
      ]
    },
    {
      "cell_type": "code",
      "execution_count": 42,
      "metadata": {
        "id": "tIxxEX10bU9E"
      },
      "outputs": [],
      "source": [
        "points = [i+1 for i in range(len(data))]\n",
        "ym_val = [i for i in points_m]\n",
        "yq_val = [i for i in points_q]"
      ]
    },
    {
      "cell_type": "markdown",
      "metadata": {
        "id": "ID8fNz_OehVK"
      },
      "source": [
        "## TODO\n",
        "\n",
        "Plot the running times of the two algorithms together with their 95% confidence intervals. You may find [this](https://en.wikipedia.org/wiki/Confidence_interval) and [this](https://matplotlib.org/stable/api/_as_gen/matplotlib.pyplot.fill_between.html) helpful. \n",
        "\n",
        "Note both curves, one for each algorithm and their confidence intervals must appear on the same plot. \n",
        "\n",
        "You may use red for Merge Sort and blue for Quick Sort. For each of these, a shaded region showing the 95% confidence interval for each of these must be filled with the same color at 50% of lower transparency."
      ]
    },
    {
      "cell_type": "code",
      "execution_count": 44,
      "metadata": {
        "colab": {
          "base_uri": "https://localhost:8080/",
          "height": 265
        },
        "id": "LbeLDbrccjgC",
        "outputId": "97c4e6b7-9d47-44df-ca4b-49877ca4d147"
      },
      "outputs": [
        {
          "output_type": "display_data",
          "data": {
            "text/plain": [
              "<Figure size 432x288 with 1 Axes>"
            ],
            "image/png": "[encoded data removed]"
          },
          "metadata": {
            "needs_background": "light"
          }
        }
      ],
      "source": [
        "plt.plot(points,ym_val,color='r')\n",
        "plt.plot(points,yq_val,color='b')\n",
        "plt.show()\n"
      ]
    },
    {
      "cell_type": "markdown",
      "metadata": {
        "id": "Mu51mdssfI86"
      },
      "source": [
        "## implement your functions, then plot the results"
      ]
    },
    {
      "cell_type": "code",
      "execution_count": null,
      "metadata": {
        "id": "Oup7leq2diYZ"
      },
      "outputs": [],
      "source": []
    }
  ],
  "metadata": {
    "colab": {
      "provenance": [],
      "include_colab_link": true
    },
    "kernelspec": {
      "display_name": "Python 3",
      "name": "python3"
    },
    "language_info": {
      "name": "python"
    }
  },
  "nbformat": 4,
  "nbformat_minor": 0
}